{
 "metadata": {
  "language_info": {
   "codemirror_mode": {
    "name": "ipython",
    "version": 3
   },
   "file_extension": ".py",
   "mimetype": "text/x-python",
   "name": "python",
   "nbconvert_exporter": "python",
   "pygments_lexer": "ipython3",
   "version": "3.9.5"
  },
  "orig_nbformat": 4,
  "kernelspec": {
   "name": "python3",
   "display_name": "Python 3.9.5 64-bit ('NBA-O70mvEYv': pipenv)"
  },
  "interpreter": {
   "hash": "db2ffdd2fa3280b0b06d6e60ebb32d8dd74e69e88849db114a808c9d7fbf6c89"
  }
 },
 "nbformat": 4,
 "nbformat_minor": 2,
 "cells": [
  {
   "cell_type": "code",
   "execution_count": 1,
   "metadata": {},
   "outputs": [],
   "source": [
    "import json\n",
    "import numpy as np\n",
    "import pandas as pd\n",
    "from sklearn.linear_model import RidgeCV"
   ]
  },
  {
   "cell_type": "code",
   "execution_count": 2,
   "metadata": {},
   "outputs": [],
   "source": [
    "f=open(\"data\\wnba_players.json\")\n",
    "player_id = []\n",
    "data = json.load(f)\n",
    "player_dict = {int(k):v for k,v in data.items()}"
   ]
  },
  {
   "cell_type": "code",
   "execution_count": 3,
   "metadata": {},
   "outputs": [],
   "source": [
    "# Select Yeat to calculate RAPM\n",
    "year = 2020\n",
    "possessions = pd.read_csv(\"data\\WNBA_rapm_possessions_{0}.csv\".format(year))"
   ]
  },
  {
   "cell_type": "code",
   "execution_count": 4,
   "metadata": {},
   "outputs": [],
   "source": [
    "def build_player_list(posessions):\n",
    "    players = list(\n",
    "        set(list(posessions['off1'].unique()) + list(posessions['off2'].unique()) + \n",
    "            list(posessions['off3']) + list(posessions['off4'].unique()) + \n",
    "            list(posessions['off5'].unique()) + list(posessions['def1'].unique()) + \n",
    "            list(posessions['def2'].unique()) + list(posessions['def3'].unique()) + \n",
    "            list(posessions['def4'].unique()) + list(posessions['def5'].unique())))\n",
    "    players.sort()\n",
    "    return players"
   ]
  },
  {
   "cell_type": "code",
   "execution_count": 5,
   "metadata": {},
   "outputs": [],
   "source": [
    "player_list = build_player_list(possessions)\n",
    "possessions['PointsPerPossession'] = 100 * possessions['Points'] \n",
    "# possessions.head()"
   ]
  },
  {
   "cell_type": "code",
   "execution_count": 6,
   "metadata": {},
   "outputs": [],
   "source": [
    "def map_players(row_in, players):\n",
    "    p1 = row_in[0]\n",
    "    p2 = row_in[1]\n",
    "    p3 = row_in[2]\n",
    "    p4 = row_in[3]\n",
    "    p5 = row_in[4]\n",
    "    p6 = row_in[5]\n",
    "    p7 = row_in[6]\n",
    "    p8 = row_in[7]\n",
    "    p9 = row_in[8]\n",
    "    p10 = row_in[9]\n",
    "\n",
    "    rowOut = np.zeros([len(players) * 2])\n",
    "\n",
    "    rowOut[players.index(p1)] = 1\n",
    "    rowOut[players.index(p2)] = 1\n",
    "    rowOut[players.index(p3)] = 1\n",
    "    rowOut[players.index(p4)] = 1\n",
    "    rowOut[players.index(p5)] = 1\n",
    "\n",
    "    rowOut[players.index(p6) + len(players)] = -1\n",
    "    rowOut[players.index(p7) + len(players)] = -1\n",
    "    rowOut[players.index(p8) + len(players)] = -1\n",
    "    rowOut[players.index(p9) + len(players)] = -1\n",
    "    rowOut[players.index(p10) + len(players)] = -1\n",
    "\n",
    "    return rowOut"
   ]
  },
  {
   "cell_type": "code",
   "execution_count": 7,
   "metadata": {},
   "outputs": [],
   "source": [
    "# Break the dataframe into x_train (nxm matrix), y_train (nx1 matrix of target values), and weights (not necessary because all rows will have 1 possession)\n",
    "def convert_to_matricies(possessions, name, players):\n",
    "    # extract only the columns we need\n",
    "\n",
    "    # Convert the columns of player ids into a numpy matrix\n",
    "    stints_x_base = possessions[['off1', 'off2','off3', 'off4', 'off5',\n",
    "                                 'def1', 'def2', 'def3', 'def4', 'def5']].to_numpy()\n",
    "    # Apply our mapping function to the numpy matrix\n",
    "    stint_X_rows = np.apply_along_axis(map_players, 1, stints_x_base, players)\n",
    "\n",
    "    # Convert the column of target values into a numpy matrix\n",
    "    stint_Y_rows = possessions[name].to_numpy()\n",
    "\n",
    "    # return matricies and possessions series\n",
    "    return stint_X_rows, stint_Y_rows"
   ]
  },
  {
   "cell_type": "code",
   "execution_count": 8,
   "metadata": {},
   "outputs": [],
   "source": [
    "train_x, train_y = convert_to_matricies(possessions, 'PointsPerPossession', player_list)"
   ]
  },
  {
   "cell_type": "code",
   "execution_count": 9,
   "metadata": {},
   "outputs": [],
   "source": [
    "# Convert lambda value to alpha needed for ridge CV\n",
    "def lambda_to_alpha(lambda_value, samples):\n",
    "    return (lambda_value * samples) / 2.0\n",
    "\n",
    "# Convert RidgeCV alpha back into a lambda value\n",
    "def alpha_to_lambda(alpha_value, samples):\n",
    "    return (alpha_value * 2.0) / samples"
   ]
  },
  {
   "cell_type": "code",
   "execution_count": 10,
   "metadata": {},
   "outputs": [],
   "source": [
    "def calculate_rapm(train_x, train_y, lambdas, name, players):\n",
    "    # convert our lambdas to alphas\n",
    "    alphas = [lambda_to_alpha(l, train_x.shape[0]) for l in lambdas]\n",
    "\n",
    "    # create a 5 fold CV ridgeCV model. Our target data is not centered at 0, so we want to fit to an intercept.\n",
    "    clf = RidgeCV(alphas=alphas, cv=5, fit_intercept=True, normalize=False)\n",
    "\n",
    "    # fit our training data\n",
    "    model = clf.fit(train_x, train_y,)\n",
    "\n",
    "    # convert our list of players into a mx1 matrix\n",
    "    player_arr = np.transpose(np.array(players).reshape(1, len(players)))\n",
    "\n",
    "    # extract our coefficients into the offensive and defensive parts\n",
    "    coef_offensive_array = model.coef_[0:len(players)][np.newaxis].T\n",
    "    coef_defensive_array = model.coef_[len(players):][np.newaxis].T\n",
    "\n",
    "    # concatenate the offensive and defensive values with the playey ids into a mx3 matrix\n",
    "    player_id_with_coef = np.concatenate([player_arr, coef_offensive_array, coef_defensive_array], axis=1)\n",
    "    # build a dataframe from our matrix\n",
    "    players_coef = pd.DataFrame(player_id_with_coef)\n",
    "    intercept = model.intercept_\n",
    "\n",
    "    # apply new column names\n",
    "    players_coef.columns = ['playerId', '{0}__Off'.format(name), '{0}__Def'.format(name)]\n",
    "\n",
    "    # Add the offesnive and defensive components together (we should really be weighing this to the number of offensive and defensive possession played as they are often not equal).\n",
    "    players_coef[name] = players_coef['{0}__Off'.format(name)] + players_coef['{0}__Def'.format(name)]\n",
    "\n",
    "    # rank the values\n",
    "    players_coef['{0}_Rank'.format(name)] = players_coef[name].rank(ascending=False)\n",
    "    players_coef['{0}__Off_Rank'.format(name)] = players_coef['{0}__Off'.format(name)].rank(ascending=False)\n",
    "    players_coef['{0}__Def_Rank'.format(name)] = players_coef['{0}__Def'.format(name)].rank(ascending=False)\n",
    "\n",
    "    # add the intercept for reference\n",
    "    players_coef['{0}__intercept'.format(name)] = intercept\n",
    "\n",
    "    return players_coef, intercept"
   ]
  },
  {
   "cell_type": "code",
   "execution_count": 11,
   "metadata": {},
   "outputs": [],
   "source": [
    "lambdas_rapm = [.01, .05, .1]"
   ]
  },
  {
   "cell_type": "code",
   "execution_count": 12,
   "metadata": {},
   "outputs": [],
   "source": [
    "results, intercept = calculate_rapm(train_x, train_y, lambdas_rapm, 'RAPM', player_list)\n",
    "results = np.round(results, decimals=2)\n",
    "results = results.reindex(sorted(results.columns), axis=1)\n",
    "results['playerId']=results['playerId'].astype('int')\n",
    "results['playerName']=results['playerId'].map(player_dict)\n",
    "cols = results.columns.tolist()\n",
    "cols = cols[-1:] + cols[:-1]\n",
    "cols = cols[-1:] + cols[:-1]\n",
    "results = results[cols]\n",
    "results = results.sort_values(by=['RAPM'],ascending=False)\n",
    "results = results.reset_index(drop=True)"
   ]
  },
  {
   "cell_type": "code",
   "execution_count": 13,
   "metadata": {},
   "outputs": [
    {
     "output_type": "execute_result",
     "data": {
      "text/plain": [
       "   playerId            playerName  RAPM  RAPM_Rank  RAPM__Def  RAPM__Def_Rank  \\\n",
       "0    202252          Alysha Clark  7.26        1.0       3.18             3.0   \n",
       "1    202664  Courtney Vandersloot  5.95        2.0       0.58            52.0   \n",
       "2    201881      Angel McCoughtry  5.78        3.0       1.84            19.0   \n",
       "3   1629501          Alanna Smith  5.04        4.0       2.79             4.0   \n",
       "4   1628878          Ariel Atkins  4.48        5.0       2.01            16.0   \n",
       "\n",
       "   RAPM__Off  RAPM__Off_Rank  RAPM__intercept  \n",
       "0       4.08             4.0           102.08  \n",
       "1       5.36             1.0           102.08  \n",
       "2       3.93             5.0           102.08  \n",
       "3       2.25            16.0           102.08  \n",
       "4       2.47            11.0           102.08  "
      ],
      "text/html": "<div>\n<style scoped>\n    .dataframe tbody tr th:only-of-type {\n        vertical-align: middle;\n    }\n\n    .dataframe tbody tr th {\n        vertical-align: top;\n    }\n\n    .dataframe thead th {\n        text-align: right;\n    }\n</style>\n<table border=\"1\" class=\"dataframe\">\n  <thead>\n    <tr style=\"text-align: right;\">\n      <th></th>\n      <th>playerId</th>\n      <th>playerName</th>\n      <th>RAPM</th>\n      <th>RAPM_Rank</th>\n      <th>RAPM__Def</th>\n      <th>RAPM__Def_Rank</th>\n      <th>RAPM__Off</th>\n      <th>RAPM__Off_Rank</th>\n      <th>RAPM__intercept</th>\n    </tr>\n  </thead>\n  <tbody>\n    <tr>\n      <th>0</th>\n      <td>202252</td>\n      <td>Alysha Clark</td>\n      <td>7.26</td>\n      <td>1.0</td>\n      <td>3.18</td>\n      <td>3.0</td>\n      <td>4.08</td>\n      <td>4.0</td>\n      <td>102.08</td>\n    </tr>\n    <tr>\n      <th>1</th>\n      <td>202664</td>\n      <td>Courtney Vandersloot</td>\n      <td>5.95</td>\n      <td>2.0</td>\n      <td>0.58</td>\n      <td>52.0</td>\n      <td>5.36</td>\n      <td>1.0</td>\n      <td>102.08</td>\n    </tr>\n    <tr>\n      <th>2</th>\n      <td>201881</td>\n      <td>Angel McCoughtry</td>\n      <td>5.78</td>\n      <td>3.0</td>\n      <td>1.84</td>\n      <td>19.0</td>\n      <td>3.93</td>\n      <td>5.0</td>\n      <td>102.08</td>\n    </tr>\n    <tr>\n      <th>3</th>\n      <td>1629501</td>\n      <td>Alanna Smith</td>\n      <td>5.04</td>\n      <td>4.0</td>\n      <td>2.79</td>\n      <td>4.0</td>\n      <td>2.25</td>\n      <td>16.0</td>\n      <td>102.08</td>\n    </tr>\n    <tr>\n      <th>4</th>\n      <td>1628878</td>\n      <td>Ariel Atkins</td>\n      <td>4.48</td>\n      <td>5.0</td>\n      <td>2.01</td>\n      <td>16.0</td>\n      <td>2.47</td>\n      <td>11.0</td>\n      <td>102.08</td>\n    </tr>\n  </tbody>\n</table>\n</div>"
     },
     "metadata": {},
     "execution_count": 13
    }
   ],
   "source": [
    "results.to_csv('data\\WNBA_RAPM_{0}.csv'.format(year))\n",
    "results.head()"
   ]
  }
 ]
}