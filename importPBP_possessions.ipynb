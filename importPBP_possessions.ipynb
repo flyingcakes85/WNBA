{
 "metadata": {
  "language_info": {
   "codemirror_mode": {
    "name": "ipython",
    "version": 3
   },
   "file_extension": ".py",
   "mimetype": "text/x-python",
   "name": "python",
   "nbconvert_exporter": "python",
   "pygments_lexer": "ipython3",
   "version": "3.8.6"
  },
  "orig_nbformat": 2,
  "kernelspec": {
   "name": "python386jvsc74a57bd069abaf9ba4075641c3af8c8176199ca30257e97ea4c7be29be239fe5610b3d43",
   "display_name": "Python 3.8.6 64-bit ('NBA-LJs_y2gm': pipenv)"
  }
 },
 "nbformat": 4,
 "nbformat_minor": 2,
 "cells": [
  {
   "cell_type": "markdown",
   "source": [
    "# Import all possessions of a season using PBP API"
   ],
   "metadata": {}
  },
  {
   "cell_type": "code",
   "execution_count": 1,
   "source": [
    "import pandas as pd\r\n",
    "import numpy as np\r\n",
    "# import time\r\n",
    "# import datetime\r\n",
    "from IPython.display import clear_output\r\n",
    "from collections import Counter"
   ],
   "outputs": [],
   "metadata": {}
  },
  {
   "cell_type": "markdown",
   "source": [
    "## Import all the Game IDs in a season"
   ],
   "metadata": {}
  },
  {
   "cell_type": "code",
   "execution_count": 2,
   "source": [
    "from pbpstats.client import Client\r\n",
    "\r\n",
    "settings = {\r\n",
    "    \"Games\": {\"source\": \"web\", \"data_provider\": \"data_nba\"},\r\n",
    "     \"dir\": \"C:/Users/spannala/Documents/Sra_coding/NBA/pbpdata\",\r\n",
    "}\r\n",
    "client = Client(settings)\r\n",
    "# ID of all games for 2020-21 Season\r\n",
    "# season = client.Season(\"nba\", \"2019-20\", \"Regular Season\")\r\n",
    "season = client.Season(\"wnba\", \"2019\", \"Regular Season\")\r\n",
    "games_id = []\r\n",
    "k = 0\r\n",
    "for final_game in season.games.final_games:\r\n",
    "    k += 1\r\n",
    "    clear_output(wait=True)\r\n",
    "    print(k)\r\n",
    "    games_id.append(final_game['game_id'])"
   ],
   "outputs": [
    {
     "output_type": "stream",
     "name": "stdout",
     "text": [
      "204\n"
     ]
    }
   ],
   "metadata": {}
  },
  {
   "cell_type": "markdown",
   "source": [
    "## Import all Game data objects in a season"
   ],
   "metadata": {}
  },
  {
   "cell_type": "code",
   "execution_count": 3,
   "source": [
    "settings = {\r\n",
    "    \"Boxscore\": {\"source\": \"file\", \"data_provider\": \"data_nba\"},\r\n",
    "    \"Possessions\": {\"source\": \"file\", \"data_provider\": \"data_nba\"},\r\n",
    "    \"dir\": \"C:/Users/spannala/Documents/Sra_coding/NBA/pbpdata\"\r\n",
    "}\r\n",
    "client = Client(settings)\r\n",
    "games_list = []\r\n",
    "bad_games_list = []\r\n",
    "k = 0\r\n",
    "for gameid in games_id:\r\n",
    "    clear_output(wait=True)\r\n",
    "    k += 1\r\n",
    "    print(k)\r\n",
    "    try:\r\n",
    "        games_list.append(client.Game(gameid))\r\n",
    "    except:\r\n",
    "        print(gameid)\r\n",
    "        bad_games_list.append(gameid)\r\n",
    "        continue"
   ],
   "outputs": [
    {
     "output_type": "stream",
     "name": "stdout",
     "text": [
      "204\n",
      "1021900204\n"
     ]
    }
   ],
   "metadata": {}
  },
  {
   "cell_type": "markdown",
   "source": [
    "Number of bad games"
   ],
   "metadata": {}
  },
  {
   "cell_type": "code",
   "execution_count": 4,
   "source": [
    "len(bad_games_list)"
   ],
   "outputs": [
    {
     "output_type": "execute_result",
     "data": {
      "text/plain": [
       "3"
      ]
     },
     "metadata": {},
     "execution_count": 4
    }
   ],
   "metadata": {}
  },
  {
   "cell_type": "markdown",
   "source": [
    "# For loop for generating lists of all revelant data"
   ],
   "metadata": {}
  },
  {
   "cell_type": "code",
   "execution_count": 5,
   "source": [
    "from pbpstats.resources.enhanced_pbp import Rebound\r\n",
    "from pbpstats.resources.enhanced_pbp import Turnover\r\n",
    "from pbpstats.resources.enhanced_pbp import FieldGoal\r\n",
    "from pbpstats.resources.enhanced_pbp import FreeThrow\r\n",
    "pos = []\r\n",
    "posdec = []\r\n",
    "points = []\r\n",
    "off1, off2, off3, off4, off5 = [],[],[],[],[]\r\n",
    "def1, def2, def3, def4, def5 = [],[],[],[],[]\r\n",
    "for game in games_list:\r\n",
    "    hmscr = []\r\n",
    "    rdscr = []\r\n",
    "    for possession in game.possessions.items:\r\n",
    "        for possession_event in possession.events:\r\n",
    "            if possession_event.count_as_possession:\r\n",
    "                if possession_event.description == 'Game End':\r\n",
    "                    continue\r\n",
    "                pos.append(possession_event)\r\n",
    "                posdec.append(possession_event.description)\r\n",
    "                hmscr.append(possession_event.home_score)\r\n",
    "                rdscr.append(possession_event.away_score)\r\n",
    "                off_id =  possession_event.get_offense_team_id()\r\n",
    "                teams = list(possession_event.current_players.keys())\r\n",
    "                for te in teams:\r\n",
    "                    if te == off_id:\r\n",
    "                        off1.append(possession_event.current_players[te][0])\r\n",
    "                        off2.append(possession_event.current_players[te][1])\r\n",
    "                        off3.append(possession_event.current_players[te][2])\r\n",
    "                        off4.append(possession_event.current_players[te][3])\r\n",
    "                        off5.append(possession_event.current_players[te][4])\r\n",
    "                    else:\r\n",
    "                        def1.append(possession_event.current_players[te][0])\r\n",
    "                        def2.append(possession_event.current_players[te][1])\r\n",
    "                        def3.append(possession_event.current_players[te][2])\r\n",
    "                        def4.append(possession_event.current_players[te][3])\r\n",
    "                        def5.append(possession_event.current_players[te][4])\r\n",
    "    hm_pts = []\r\n",
    "    rd_pts = []\r\n",
    "    for i in range(len(hmscr)-1):\r\n",
    "        hm_pts.append(hmscr[i+1]-hmscr[i])\r\n",
    "        rd_pts.append(rdscr[i+1]-rdscr[i])\r\n",
    "    pts = []\r\n",
    "    pts.append(max(hmscr[0],hmscr[0]))\r\n",
    "    for i in range(len(hmscr)-1):\r\n",
    "        pts.append(max(hm_pts[i],rd_pts[i]))\r\n",
    "    points.extend(pts)"
   ],
   "outputs": [],
   "metadata": {}
  },
  {
   "cell_type": "markdown",
   "source": [
    "## Save DataFrame to .csv file"
   ],
   "metadata": {}
  },
  {
   "cell_type": "code",
   "execution_count": 6,
   "source": [
    "# data1 = pd.DataFrame({'Possession':posdec,'Home':hmscr,'Road':rdscr,'Points':pts})\r\n",
    "data = pd.DataFrame({'off1':off1, 'off2':off2, 'off3':off3, 'off4':off4, 'off5':off5, 'def1':def1, 'def2':def2, 'def3':def3, 'def4':def4, 'def5':def5, 'Points':points})\r\n",
    "data.to_csv ('WNBA_rapm_possessions_2019.csv',index=False)"
   ],
   "outputs": [],
   "metadata": {}
  }
 ]
}